{
 "cells": [
  {
   "cell_type": "markdown",
   "metadata": {},
   "source": [
    "# main.py explained\n",
    "\n",
    "The included `main.py` is a sample script that programmatically controls the OSC1Lite stimulation controller using Python. This is a detailed document of `main.py`. This document assumes you have basic knowledge of Python."
   ]
  },
  {
   "cell_type": "markdown",
   "metadata": {},
   "source": [
    "This script requires the OpalKelly Python interface. The OpalKelly Python interface is a SWIG wrapper of the C API. Unfortunately the python dll is statically linked, so we must use the same version of Python interpreter as the one included in SDK. The version included in windows SDK is Python 3.5."
   ]
  },
  {
   "cell_type": "code",
   "execution_count": null,
   "metadata": {},
   "outputs": [],
   "source": [
    "#! /usr/bin/env python3.5\n",
    "\n",
    "\"\"\"\n",
    "This is a sample script that programmatically controls OSC1Lite using the API\n",
    "\"\"\"\n"
   ]
  },
  {
   "cell_type": "markdown",
   "metadata": {},
   "source": [
    "To use the API, you need to import the OpalKelly SDK and the osc1lite file. If you have not installed the OpalKelly SDK to Python's package path, you need to manually copy the `ok.py` and `_ok.pyd` to the same folder."
   ]
  },
  {
   "cell_type": "code",
   "execution_count": null,
   "metadata": {},
   "outputs": [],
   "source": [
    "import ok        # The OpalKelly SDK, you may need to manually copy it to current folder\n",
    "import osc1lite  # The OSC1Lite python interface"
   ]
  },
  {
   "cell_type": "markdown",
   "metadata": {},
   "source": [
    "Set the logging level to either specified by `LOGLEVEL` environment variable, or `DEBUG`."
   ]
  },
  {
   "cell_type": "code",
   "execution_count": null,
   "metadata": {},
   "outputs": [],
   "source": [
    "import os\n",
    "\n",
    "# Enable debug logging\n",
    "import logging\n",
    "logging.basicConfig(level=os.environ.get(\"LOGLEVEL\", \"DEBUG\"))"
   ]
  },
  {
   "cell_type": "markdown",
   "metadata": {},
   "source": [
    "Before creating the OSC1Lite object, we need to enumerate and connect to one OpalKelly board. See https://opalkelly.com/examples/enumerating-devices/#tab-python and https://opalkelly.com/examples/open-a-specific-device/#tab-python for detailed explanation.\n",
    "\n",
    "We will use the `serial` variable later to locate the calibration file, so you must specify it here. Otherwise the board will run in uncalibrated mode, which has a low accuracy and possibly a zero-scale leakage."
   ]
  },
  {
   "cell_type": "code",
   "execution_count": null,
   "metadata": {},
   "outputs": [],
   "source": [
    "# Initialize OpalKelly\n",
    "dev = ok.okCFrontPanel()\n",
    "\n",
    "# Enumerate devices\n",
    "n_devices = dev.GetDeviceCount()\n",
    "for i in range(n_devices):\n",
    "    logging.debug(\n",
    "        'Device[{0}] Model: {1}'.format(i, dev.GetDeviceListModel(i)))\n",
    "    logging.debug(\n",
    "        'Device[{0}] Serial: {1}'.format(i, dev.GetDeviceListSerial(i)))\n",
    "assert n_devices, 'No connected device. Check the connection and make sure no other program is occupying the device.'\n",
    "\n",
    "# Open the default device\n",
    "#serial = '1740000JJK'\n",
    "serial = ''  # Fill in the serial of your board here!\n",
    "dev.OpenBySerial(serial)\n",
    "assert dev.IsOpen(), 'Device open failed. Is the FPGA dead?'"
   ]
  },
  {
   "cell_type": "markdown",
   "metadata": {},
   "source": [
    "Now load the calibration data. All OSC1Lites are callibrated before shipping, and you can find the corresponding calibration file in the `calib/` folder.\n",
    "The calibration file contains 12 rows, one row per channel. Each row has 3 numbers, they are:\n",
    "\n",
    "* The voltage drop (V) across the limiting resistor, when the board is in uncalibrated mode and amplitude is set to 10uA;\n",
    "* The voltage drop (V) across the limiting resistor, when the board is in uncalibrated mode and amplitude is set to 90uA;\n",
    "* The resistance (kOhm) of the limiting resistor.\n",
    "\n",
    "There was an old calibration format which only has 2 columns, and the resistance is assumed to be 100 kOhm. Those boards are never shipped to customers.\n",
    "\n",
    "The calib array accepted by OSC1Lite API, hoever, is a list of 2-element tuples. Each tuple corresponds to one channel. The 2 numbers are:\n",
    "\n",
    "* The actual current (mA) across the limiting resistor, when the board is in uncalibrated mode and amplitude is set to 10uA;\n",
    "* The actual current (mA) across the limiting resistor, when the board is in uncalibrated mode and amplitude is set to 90uA.\n",
    "\n",
    "Therefore we need to divide first 2 elements by the 3rd element in each row.\n",
    "\n",
    "See the REMARK below about the order of the channels."
   ]
  },
  {
   "cell_type": "code",
   "execution_count": null,
   "metadata": {},
   "outputs": [],
   "source": [
    "# Load the calibration data\n",
    "try:\n",
    "    with open('calib/' + serial + '.calib') as fp:\n",
    "        calib = []\n",
    "        for _ in range(12):\n",
    "            s = next(fp).strip().split(None, 2)\n",
    "            s[0] = float(s[0])\n",
    "            s[1] = float(s[1])\n",
    "            if len(s) == 3:\n",
    "                s[2] = float(s[2])\n",
    "                s[0] /= s[2]\n",
    "                s[1] /= s[2]\n",
    "            else:\n",
    "                s[0] /= 100\n",
    "                s[1] /= 100\n",
    "            calib.append(s[0:2])\n",
    "except:\n",
    "    # just use dummy data\n",
    "    calib = [None for _ in range(12)]"
   ]
  },
  {
   "cell_type": "markdown",
   "metadata": {},
   "source": [
    "Now we can create the OSC1Lite object with the OpalKelly device and the calibration data."
   ]
  },
  {
   "cell_type": "code",
   "execution_count": null,
   "metadata": {},
   "outputs": [],
   "source": [
    "# Initialize OSC1Lite board\n",
    "osc = osc1lite.OSC1Lite(dev, calib=calib)"
   ]
  },
  {
   "cell_type": "markdown",
   "metadata": {},
   "source": [
    "Before using the OSC1Lite object, we reset the whole system.\n",
    "\n",
    "* `osc.configure()` will reset the FPGA;\n",
    "* `osc.reset()` will reset all communication protocols between FPGA and PC, FPGA and DACs;\n",
    "* `osc.init_dac()` will reset the DACs, and write the calibration data to DACs;\n",
    "* `osc.enable_dac_output()` will enable FPGA to send output commands to DACs."
   ]
  },
  {
   "cell_type": "code",
   "execution_count": null,
   "metadata": {},
   "outputs": [],
   "source": [
    "osc.configure(bit_file='OSC1_LITE_Control.bit', ignore_hash_error=False)\n",
    "osc.reset()\n",
    "osc.init_dac()\n",
    "osc.enable_dac_output()"
   ]
  },
  {
   "cell_type": "markdown",
   "metadata": {},
   "source": [
    "Enable all 12 DAC channels. Before enabling the channels, the output pin will stay floating after reset. After enabling the channel, the output will be connected to the DAC. So even if a channel is not used, enabling the channel may decrease unwanted noise.\n",
    "\n",
    "You can also disable a channel by calling `osc.set_enable(channel, False)`. Note that enabling / disabling the channel will create a small voltage glitch, so it is not recommended to enable / disable channel during experiment.\n",
    "\n",
    "Note: In OSCGUI, all channels are automatically enabled after connected to the board, and disabled before disconnecting from the board."
   ]
  },
  {
   "cell_type": "code",
   "execution_count": null,
   "metadata": {},
   "outputs": [],
   "source": [
    "# Enable all 12 channels\n",
    "osc.set_enable(range(12), True)"
   ]
  },
  {
   "cell_type": "markdown",
   "metadata": {},
   "source": [
    "Set all channels to continuous mode. `True` is for continuous mode, and `False` is for one-shot mode."
   ]
  },
  {
   "cell_type": "code",
   "execution_count": null,
   "metadata": {},
   "outputs": [],
   "source": [
    "# Set all channels to continuous mode\n",
    "osc.set_trigger_mode(range(12), True)"
   ]
  },
  {
   "cell_type": "markdown",
   "metadata": {},
   "source": [
    "Set all channels to PC trigger. `True` is for external, and `False` is for PC trigger.\n",
    "\n",
    "Note: You can use continuous mode with external trigger when using API. The waveform will be reset on every trigger in rise edge."
   ]
  },
  {
   "cell_type": "code",
   "execution_count": null,
   "metadata": {},
   "outputs": [],
   "source": [
    "# Set all channels to PC trigger\n",
    "osc.set_trigger_source(range(12), False)"
   ]
  },
  {
   "cell_type": "markdown",
   "metadata": {},
   "source": [
    "Use `osc.set_channel()` to configure the waveform parameters of each channel. Here we set all channels to square wave with no rise time, 50uA amplitude, 0.1s pulse width and 0.2s period. \n",
    "\n",
    "The firse parameter is `mode` which is related to rise time. Refer to comment in `osc1lite.py` for the relationship between mode and rise time."
   ]
  },
  {
   "cell_type": "code",
   "execution_count": null,
   "metadata": {},
   "outputs": [],
   "source": [
    "# Configure the waveform parameters of each channel\n",
    "for ch in range(12):\n",
    "    osc.set_channel(ch, osc1lite.ChannelInfo(\n",
    "        osc1lite.SquareWaveform(0, 50, .1, .2)))"
   ]
  },
  {
   "cell_type": "markdown",
   "metadata": {},
   "source": [
    "Send PC trigger to all channels using `osc.trigger_channel()`. There is no effect if the channel is using external trigger."
   ]
  },
  {
   "cell_type": "code",
   "execution_count": null,
   "metadata": {},
   "outputs": [],
   "source": [
    "# Send PC trigger to all channels\n",
    "osc.trigger_channel(range(12))"
   ]
  },
  {
   "cell_type": "markdown",
   "metadata": {},
   "source": [
    "Wait for Enter key. The OSC1Lite will output the waveform as configured above."
   ]
  },
  {
   "cell_type": "code",
   "execution_count": null,
   "metadata": {},
   "outputs": [],
   "source": [
    "input('Now LED on all channels should be flashing. Press enter to exit')"
   ]
  },
  {
   "cell_type": "markdown",
   "metadata": {},
   "source": [
    "Disable all channels and disconnect the OpalKelly device.\n",
    "\n",
    "Note: if you do not explicitly disable all channels, they will keep the last state even if the board is disconnected. If you accidentally did this, you can re-connect to the board, disable all channels and disconnect again. Or you can use OSCGUI, and connect / disconnect to the board."
   ]
  },
  {
   "cell_type": "code",
   "execution_count": null,
   "metadata": {},
   "outputs": [],
   "source": [
    "# Disable channels\n",
    "osc.set_enable(range(12), False)\n",
    "\n",
    "# Disconnect the OpalKelly device\n",
    "dev.Close()"
   ]
  },
  {
   "cell_type": "markdown",
   "metadata": {},
   "source": [
    "## REMARK: the channel order\n",
    "\n",
    "In the OSC1Lite API, all channels are specified with channel index. In OSCGUI, however, channels are in shank name. The mapping is:\n",
    "\n",
    "| Channel Index | Shank Name |\n",
    "|---------------|------------|\n",
    "| 0             | S2L1       |\n",
    "| 1             | S2L3       |\n",
    "| 2             | S1L2       |\n",
    "| 3             | S4L1       |\n",
    "| 4             | S4L3       |\n",
    "| 5             | S3L2       |\n",
    "| 6             | S2L2       |\n",
    "| 7             | S1L1       |\n",
    "| 8             | S1L3       |\n",
    "| 9             | S4L2       |\n",
    "| 10            | S3L1       |\n",
    "| 11            | S3L3       |"
   ]
  }
 ],
 "metadata": {
  "kernelspec": {
   "display_name": "Python 3",
   "language": "python",
   "name": "python3"
  },
  "language_info": {
   "codemirror_mode": {
    "name": "ipython",
    "version": 3
   },
   "file_extension": ".py",
   "mimetype": "text/x-python",
   "name": "python",
   "nbconvert_exporter": "python",
   "pygments_lexer": "ipython3",
   "version": "3.8.1"
  }
 },
 "nbformat": 4,
 "nbformat_minor": 4
}
